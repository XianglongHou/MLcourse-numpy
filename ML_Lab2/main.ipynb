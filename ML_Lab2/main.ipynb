{
 "cells": [
  {
   "cell_type": "markdown",
   "source": [
    "# Lab2"
   ],
   "metadata": {
    "collapsed": false,
    "pycharm": {
     "name": "#%% md\n"
    }
   }
  },
  {
   "cell_type": "code",
   "execution_count": 1013,
   "outputs": [],
   "source": [
    "import numpy as np\n",
    "import matplotlib.pyplot as plt"
   ],
   "metadata": {
    "collapsed": false,
    "pycharm": {
     "name": "#%%\n"
    }
   }
  },
  {
   "cell_type": "markdown",
   "source": [
    "## generate data"
   ],
   "metadata": {
    "collapsed": false,
    "pycharm": {
     "name": "#%% md\n"
    }
   }
  },
  {
   "cell_type": "code",
   "execution_count": 1014,
   "outputs": [],
   "source": [
    "# In real world, you cannot learn how the data was generated. So do not rely on this function when coding your lab.\n",
    "def generate_data(dim, num):\n",
    "    x = np.random.normal(0, 10, [num, dim])\n",
    "    coef = np.random.uniform(-1, 1, [dim, 1])\n",
    "    pred = np.dot(x, coef)\n",
    "    pred_n = (pred - np.mean(pred)) / np.sqrt(np.var(pred))\n",
    "    label = np.sign(pred_n)\n",
    "    mislabel_value = np.random.uniform(0, 1, num)\n",
    "    mislabel = 0\n",
    "    for i in range(num):\n",
    "        if np.abs(pred_n[i]) < 1 and mislabel_value[i] > 0.9 + 0.1 * np.abs(pred_n[i]):\n",
    "            label[i] *= -1\n",
    "            mislabel += 1\n",
    "    return x, label, mislabel/num"
   ],
   "metadata": {
    "collapsed": false,
    "pycharm": {
     "name": "#%%\n"
    }
   }
  },
  {
   "cell_type": "markdown",
   "source": [
    "## write your model class"
   ],
   "metadata": {
    "collapsed": false,
    "pycharm": {
     "name": "#%% md\n"
    }
   }
  },
  {
   "cell_type": "code",
   "execution_count": 1015,
   "outputs": [],
   "source": [
    "# you can do anything necessary about the model\n",
    "class SVM1:\n",
    "    ##参考《统计学习方法》中7.4节SMO方法，\n",
    "    # 变量的选取方式可以保证每次有足够的下降\n",
    "    def __init__(self, dim, C=100):\n",
    "        self.dim=dim\n",
    "        self.coe=np.zeros(self.dim)\n",
    "        self.C=C\n",
    "        self.bias=0\n",
    "\n",
    "    def fit(self, X, y):\n",
    "        #SMO方法\n",
    "        y=np.squeeze(y)\n",
    "        n=y.size\n",
    "        K=np.dot(X,X.T) #X行向量的度量矩阵\n",
    "        i_choose=np.arange(n)\n",
    "        a=np.zeros(n)\n",
    "        g=np.zeros(n)\n",
    "        global b\n",
    "        global goal\n",
    "        b=self.bias\n",
    "        C=5000\n",
    "        for itr in range(n):\n",
    "            g[itr]= np.dot(a*y.T,K[itr])+b\n",
    "        E=g-y\n",
    "        goal= 0.5*((a*y).T)@K@ (a*y)-a.sum()\n",
    "\n",
    "        def select1(S=i_choose):\n",
    "            #在指定下标集合中寻找第一个变量（主循环中选过的不会再被选择）\n",
    "            #并判断停机条件\n",
    "            tol=1e-5 #指定误差\n",
    "            mymax_num1=0\n",
    "            mymax_num2=0\n",
    "            for i in S:\n",
    "                if 0<a[i]<C:\n",
    "                    if abs(y[i]*g[i]-1) > tol:\n",
    "                        if abs(y[i]*g[i]-1)>mymax_num2:\n",
    "                            mymax_index2=i\n",
    "                            mymax_num2=abs(y[i]*g[i]-1)\n",
    "                if mymax_num2 !=0:\n",
    "                    break\n",
    "                elif a[i]==0:\n",
    "                    if y[i]*g[i]-1<-tol:\n",
    "                        if abs(y[i]*g[i]-1)>mymax_num1:\n",
    "                            mymax_index1=i\n",
    "                            mymax_num1=abs(y[i]*g[i]-1)\n",
    "                elif a[i]==C:\n",
    "                    if y[i]*g[i]-1>tol:\n",
    "                        if y[i]*g[i]-1>mymax_num1:\n",
    "                            mymax_index1=i\n",
    "                            mymax_num1=y[i]*g[i]-1\n",
    "            if mymax_num2!=0 :\n",
    "                return mymax_index2\n",
    "            elif mymax_num1 !=0:\n",
    "                return mymax_index1\n",
    "            else:\n",
    "                return -1 #达到终止条件返回-1\n",
    "\n",
    "        def select2_method1(S):\n",
    "            #第一种方法寻找第二个优化变量选取与第一个变量E差值最大者\n",
    "            if S.size>0 :\n",
    "                deltaE=abs(E-E[i])\n",
    "                max_index2=np.argmax(deltaE)\n",
    "                if deltaE[max_index2]>1e-5:\n",
    "                    return max_index2\n",
    "            else:\n",
    "                return -1\n",
    "\n",
    "        def select2_method2(S):\n",
    "            #第二种方法找第二个优化变量，处于边界上的，或随机选取\n",
    "            if S.size>0 :\n",
    "                for k in S:\n",
    "                    if 1e-5<a[k]<C:\n",
    "                        return k\n",
    "                return np.random.choice(S)\n",
    "            else:\n",
    "                return -1\n",
    "\n",
    "\n",
    "        def pre_optimize(i_index,j_index):\n",
    "            #分为两种情况，如果可以优化则进行优化，否则返回-1不进行优化\n",
    "            global b\n",
    "            global goal\n",
    "            if y[i_index]==y[j_index]:\n",
    "                L=max(0,a[i_index]+a[j_index]-C)\n",
    "                H=min(C,a[i_index]+a[j_index])\n",
    "            else :\n",
    "                L=max(0,-a[i_index]+a[j_index])\n",
    "                H=min(C,C-a[i_index]+a[j_index])\n",
    "\n",
    "            eta=K[i_index][i_index]+K[j_index][j_index]-2*K[i_index][j_index]\n",
    "            ai_old=a[i_index]\n",
    "            aj_old=a[j_index]\n",
    "            if eta!=0:\n",
    "                aj_temp=a[j_index]+y[j_index]*(E[i_index]-E[j_index])/eta\n",
    "            else:\n",
    "                aj_temp=C\n",
    "            if aj_temp>H:\n",
    "                aj_new=H\n",
    "            elif aj_temp<L:\n",
    "                aj_new=L\n",
    "            else:\n",
    "                aj_new=aj_temp\n",
    "            ai_new=ai_old+y[i_index]*y[j_index]*(aj_old-aj_new)\n",
    "            if ai_new==ai_old and aj_new==aj_old:\n",
    "                #这表明并没有下降，返回-1并重新选择变量\n",
    "                return -1\n",
    "            else:\n",
    "                #目标函数会下降，执行优化\n",
    "                a[i_index]=ai_new\n",
    "                a[j_index]=aj_new\n",
    "\n",
    "                #y[i_index]*a[i_index]+y[j_index]*a[j_index]-y[i_index]*ai_old-y[j_index]*aj_old)\n",
    "                bi=-E[i_index]+y[i_index]*K[i_index][i_index]*(ai_old-a[i_index])+y[j_index]*K[j_index][i_index]*(aj_old-a[j_index])+ b\n",
    "                bj=-E[j_index]+y[j_index]*K[j_index][j_index]*(aj_old-a[j_index])+y[i_index]*K[i_index][i_index]*(ai_old-a[i_index])+ b\n",
    "\n",
    "                if 1e-5 < abs(a[i_index]) < C:\n",
    "                    b=bi\n",
    "                elif 1e-5 < abs(a[j_index]) < C:\n",
    "                    b=bj\n",
    "                else:\n",
    "                    b=(bi+bj)/2\n",
    "                for loop in range(n):\n",
    "                    g[loop]= np.dot(a*y.T,K[loop])+b\n",
    "                    E[loop]=g[loop]-y[loop]\n",
    "                goal= 0.5*((a*y).T)@K@ (a*y)-a.sum()\n",
    "                #pro\n",
    "                return 0\n",
    "\n",
    "        i_choose=np.arange(n)\n",
    "        count=0\n",
    "        max_itr=n\n",
    "        while count!=max_itr :\n",
    "            i=select1(i_choose)\n",
    "            if i==-1:\n",
    "                break\n",
    "            j_choose=np.arange(n)\n",
    "            j_choose=np.delete(j_choose,np.where(j_choose==i))\n",
    "\n",
    "            j=select2_method1(j_choose)\n",
    "            #首先用第一种方法选择j\n",
    "            if pre_optimize(i,j)==0 :\n",
    "                #成功优化\n",
    "                i_choose=np.delete(i_choose,np.where(i_choose==i))\n",
    "                continue\n",
    "            else:\n",
    "                j_choose=np.delete(j_choose,np.where(j_choose==j))\n",
    "                while 1:\n",
    "                    #按第二种方法选择j\n",
    "                    j=select2_method2(j_choose)\n",
    "                    if pre_optimize(i,j)==0:\n",
    "                        i_choose=np.delete(i_choose,np.where(i_choose==i))\n",
    "                        break\n",
    "                        #成功优化\n",
    "                    else:\n",
    "                        j_choose=np.delete(j_choose,np.where(j_choose==j))\n",
    "            count+=1\n",
    "        self.bias= b\n",
    "        self.coe=np.dot((a * y).T, X)\n",
    "\n",
    "\n",
    "    def predict(self, X):\n",
    "        #预测结果\n",
    "        y_predict=np.sign(X@self.coe+self.bias)\n",
    "        return y_predict\n",
    "\n",
    "    def evaluate(self,y_real,y_predict):\n",
    "        #评估正确率\n",
    "        y_real=np.squeeze(y_real)\n",
    "        return np.sum(y_real==y_predict)/y_real.size\n",
    "\n",
    "    def visualization(self,X,y):\n",
    "        if self.dim==2:\n",
    "            #对于二维情况可视化\n",
    "            for i in range(y.size):\n",
    "                if y[i]==1:\n",
    "                    plt.scatter(X[i,0],X[i,1],c='y')\n",
    "                else:\n",
    "                    plt.scatter(X[i,0],X[i,1],c='r')\n",
    "            x1=np.array([-20,20])\n",
    "            x2=-(self.coe[0]*x1+self.bias)/self.coe[1]\n",
    "            plt.plot(x1,x2,linewidth=3.0,color='g')\n"
   ],
   "metadata": {
    "collapsed": false,
    "pycharm": {
     "name": "#%%\n"
    }
   }
  },
  {
   "cell_type": "code",
   "execution_count": 1016,
   "outputs": [],
   "source": [
    "class SVM2:\n",
    "    #llaozibuxiangzuolcaonimaasdhuiaewvgrb lefjksavbbbbbbbbbbbbbbbbbdskkkkk\n",
    "    def __init__(self, dim ):\n",
    "        self.dim=dim\n",
    "        self.coe=np.zeros(self.dim)\n",
    "        self.bias=0\n",
    "\n",
    "    def fit(self, X, y,lr=0.001,max_itr=1000):\n",
    "        y=np.squeeze(y)\n",
    "        for i in range(max_itr):\n",
    "            for j in range(X.shape[0]):\n",
    "                if y[j] * (np.dot(X[j], self.coe) - self.bias) < 1:\n",
    "                    self.coe -= lr * (self.coe - y[j]*X[j])\n",
    "                    self.bias -= lr * y[j]\n",
    "                else:\n",
    "                    self.coe -= lr *  self.coe\n",
    "\n",
    "\n",
    "    def visualization(self,X,y):\n",
    "        if self.dim==2:\n",
    "            #对于二维情况可视化\n",
    "            for i in range(y.size):\n",
    "                if y[i]==1:\n",
    "                    plt.scatter(X[i,0],X[i,1],c='y')\n",
    "                else:\n",
    "                    plt.scatter(X[i,0],X[i,1],c='r')\n",
    "            x1=np.array([-20,20])\n",
    "            x2=-(self.coe[0]*x1+self.bias)/self.coe[1]\n",
    "            plt.plot(x1,x2,linewidth=3.0)\n",
    "\n",
    "    def predict(self, X):\n",
    "        pred = np.dot(X, self.coe) - self.bias\n",
    "        return np.sign(pred)\n",
    "\n",
    "    def evaluate(self,y_real,y_predict):\n",
    "        y_real=np.squeeze(y_real)\n",
    "        return np.sum(y_real==y_predict)/y_real.size"
   ],
   "metadata": {
    "collapsed": false,
    "pycharm": {
     "name": "#%%\n"
    }
   }
  },
  {
   "cell_type": "markdown",
   "source": [
    "## data process"
   ],
   "metadata": {
    "collapsed": false,
    "pycharm": {
     "name": "#%% md\n"
    }
   }
  },
  {
   "cell_type": "code",
   "execution_count": 1017,
   "outputs": [],
   "source": [
    "#维数、数据量大小\n",
    "dim=2\n",
    "num=2000\n",
    "X_data, y_data, mislabel = generate_data(dim,num)\n",
    "training_rate=0.7\n",
    "test_rate=0.3\n",
    "# split data\n",
    "X_training_data= X_data[:int(training_rate * num), :]\n",
    "y_training_data= y_data[:int(training_rate * num)]\n",
    "X_test_data= X_data[int(training_rate * num):num, :]\n",
    "y_test_data= y_data[int(training_rate * num):num]"
   ],
   "metadata": {
    "collapsed": false,
    "pycharm": {
     "name": "#%%\n"
    }
   }
  },
  {
   "cell_type": "markdown",
   "source": [
    "## construct and train your models"
   ],
   "metadata": {
    "collapsed": false
   }
  },
  {
   "cell_type": "code",
   "execution_count": 1018,
   "outputs": [],
   "source": [
    "#model 1\n",
    "import time\n",
    "model1 = SVM1(dim,10000)\n",
    "T1 = time.time()\n",
    "model1.fit(X_training_data,y_training_data)\n",
    "T2 =time.time()"
   ],
   "metadata": {
    "collapsed": false,
    "pycharm": {
     "name": "#%%\n"
    }
   }
  },
  {
   "cell_type": "markdown",
   "source": [
    "## predict and compare your results"
   ],
   "metadata": {
    "collapsed": false
   }
  },
  {
   "cell_type": "code",
   "execution_count": 1019,
   "outputs": [],
   "source": [
    "model2 = SVM2(dim)\n",
    "lr=0.00001\n",
    "T3 = time.time()\n",
    "model2.fit(X_training_data,y_training_data,lr)\n",
    "T4 =time.time()"
   ],
   "metadata": {
    "collapsed": false,
    "pycharm": {
     "name": "#%%\n"
    }
   }
  },
  {
   "cell_type": "markdown",
   "source": [
    "## predict and compare your results"
   ],
   "metadata": {
    "collapsed": false,
    "pycharm": {
     "name": "#%% md\n"
    }
   }
  },
  {
   "cell_type": "code",
   "execution_count": 1020,
   "outputs": [
    {
     "name": "stdout",
     "output_type": "stream",
     "text": [
      "错标率： 0.032\n",
      "model 1\n",
      "accuracy: 0.9633333333333334\n",
      "Time: 4.66187047958374 s\n",
      "*******************************\n",
      "model 2\n",
      "accuracy: 0.9666666666666667\n",
      "Time: 7.00047755241394 s\n",
      "*******************************\n"
     ]
    },
    {
     "data": {
      "text/plain": "<Figure size 640x480 with 1 Axes>",
      "image/png": "[encoded data removed]"
     },
     "metadata": {},
     "output_type": "display_data"
    }
   ],
   "source": [
    "model1.visualization(X_training_data,y_training_data) #model1 分类直线是绿色\n",
    "y_predict=model1.predict(X_test_data)\n",
    "accuracy=model1.evaluate(y_test_data,y_predict)\n",
    "print(\"错标率：\",mislabel)\n",
    "print(\"model 1\")\n",
    "print(\"accuracy:\",accuracy)\n",
    "print(\"Time:\",T2-T1,\"s\")\n",
    "print(\"*******************************\")\n",
    "\n",
    "model2.visualization(X_training_data,y_training_data)\n",
    "y_predict=model2.predict(X_test_data)\n",
    "accuracy=model2.evaluate(y_test_data,y_predict)\n",
    "print(\"model 2\")\n",
    "print(\"accuracy:\",accuracy)\n",
    "print(\"Time:\",T4-T3,\"s\")\n",
    "print(\"*******************************\")\n",
    "\n",
    "# compare each methods"
   ],
   "metadata": {
    "collapsed": false,
    "pycharm": {
     "name": "#%%\n"
    }
   }
  }
 ],
 "metadata": {
  "kernelspec": {
   "display_name": "Python 3",
   "language": "python",
   "name": "python3"
  },
  "language_info": {
   "codemirror_mode": {
    "name": "ipython",
    "version": 2
   },
   "file_extension": ".py",
   "mimetype": "text/x-python",
   "name": "python",
   "nbconvert_exporter": "python",
   "pygments_lexer": "ipython2",
   "version": "2.7.6"
  }
 },
 "nbformat": 4,
 "nbformat_minor": 0
}