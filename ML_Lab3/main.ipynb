{
 "cells": [
  {
   "cell_type": "markdown",
   "source": [
    "# Lab 3"
   ],
   "metadata": {
    "collapsed": false,
    "pycharm": {
     "name": "#%% md\n"
    }
   }
  },
  {
   "cell_type": "markdown",
   "source": [
    "## Data Process"
   ],
   "metadata": {
    "collapsed": false
   }
  },
  {
   "cell_type": "code",
   "execution_count": 129,
   "outputs": [],
   "source": [
    "import pandas as pd\n",
    "import numpy as np\n",
    "df=pd.read_csv(\"train.dat\", header=None , names=[i for i in range(41)], encoding='utf-8')\n",
    "data=np.array(df)\n",
    "x=data[:,0:40]\n",
    "y=data[:,40:41]\n",
    "y=np.squeeze(y)\n",
    "Num=y.size\n",
    "traning_rate=0.7\n",
    "test_rate=0.3\n",
    "x_training_data=x[0:int(traning_rate*Num),:]\n",
    "y_trainning_data=y[0:int(traning_rate*Num)]\n",
    "x_test_data=x[int(traning_rate*Num):Num,:]\n",
    "y_test_data=y[int(traning_rate*Num):Num]"
   ],
   "metadata": {
    "collapsed": false,
    "pycharm": {
     "name": "#%%\n"
    }
   }
  },
  {
   "cell_type": "markdown",
   "source": [
    "## Regression Tree"
   ],
   "metadata": {
    "collapsed": false,
    "pycharm": {
     "name": "#%% md\n"
    }
   }
  },
  {
   "cell_type": "code",
   "execution_count": 130,
   "outputs": [],
   "source": [
    "class RegressionTree(object):\n",
    "    class Node(object):\n",
    "        #节点\n",
    "        def __init__(self, feature_index: int = None, feature_value=None, w=None, obj=None,\n",
    "                     left_child_node=None, right_child_node=None, num_sample: int = None):\n",
    "            \"\"\"\n",
    "            :param feature_index: 特征id\n",
    "            :param feature_value: 特征取值\n",
    "            :param w: 预测值\n",
    "            :param obj: 得分\n",
    "            :param left_child_node: 左孩子结点\n",
    "            :param right_child_node: 右孩子结点\n",
    "            :param num_sample:样本量\n",
    "            \"\"\"\n",
    "            self.feature_index = feature_index\n",
    "            self.feature_value = feature_value\n",
    "            self.w = w\n",
    "            self.obj = obj\n",
    "            self.left_child_node = left_child_node\n",
    "            self.right_child_node = right_child_node\n",
    "            self.num_sample = num_sample\n",
    "\n",
    "        def traversal(self):\n",
    "            #遍历，返回所有叶子节点权重\n",
    "            if  not self.left_child_node and not self.right_child_node:\n",
    "                return [self.w]\n",
    "            elif self.left_child_node and not self.right_child_node:\n",
    "                return self.left_child_node.traversal()\n",
    "            elif not self.left_child_node and self.right_child_node:\n",
    "                return self.right_child_node.traversal()\n",
    "            else:\n",
    "                return self.left_child_node.traversal()+ self.right_child_node.traversal()\n",
    "\n",
    "\n",
    "    def __init__(self, max_depth=None, min_samples_split=2, min_samples_leaf=1, gamma=1e-2, lamb=1e-3,min_gain=0):\n",
    "        \"\"\"\n",
    "        :param max_depth:树的最大深度\n",
    "        :param min_samples_split:当对一个内部结点划分时，要求该结点上的最小样本数，默认为2\n",
    "        分配到的样本数目小于该值停止分化\n",
    "        :param min_samples_leaf:设置叶子结点上的最小样本数，默认为1\n",
    "        :param gamma:罚项中的gamma\n",
    "        :param lamb:即损失函数中lambda\n",
    "        :param min_gain:划分增益阈值\n",
    "        \"\"\"\n",
    "        self.max_depth = max_depth\n",
    "        self.min_samples_split = min_samples_split\n",
    "        self.min_samples_leaf = min_samples_leaf\n",
    "        self.gamma = gamma\n",
    "        self.lamb = lamb\n",
    "        self.min_gain=min_gain\n",
    "\n",
    "    def _obj(self, g, h):\n",
    "        #g为一阶导数数组，h为二阶导数数组，计算obj（obj）\n",
    "        G = np.sum(g)\n",
    "        H = np.sum(h)\n",
    "        return -0.5 * G ** 2 / (H + self.lamb) + self.gamma\n",
    "\n",
    "    def _build_tree(self, current_depth, current_node: Node, x, g, h):\n",
    "        #递归调用构造树\n",
    "        rows, cols = x.shape\n",
    "        # 计算G和H\n",
    "        G = np.sum(g)\n",
    "        H = np.sum(h)\n",
    "        # 计算当前的预测值\n",
    "        current_node.w = -1 * G / (H + self.lamb)\n",
    "        current_node.num_sample = rows\n",
    "        # 判断停止切分的条件\n",
    "        current_node.obj = self._obj(g, h)\n",
    "\n",
    "        if rows < self.min_samples_split:\n",
    "            #分配到的样本数目小于某个阈值停止分化\n",
    "            return\n",
    "\n",
    "        if self.max_depth is not None and current_depth > self.max_depth:\n",
    "            #超过了允许的最大深度\n",
    "            return\n",
    "\n",
    "\n",
    "        best_index = None\n",
    "        best_index_value = None\n",
    "        # 根据得分选择最大增益的最佳的特征以及取值\n",
    "        best_criterion_value = self.min_gain\n",
    "        #get_best_split\n",
    "        for index in range(0, cols):\n",
    "            #对index列遍历\n",
    "            for index_value in sorted(set(x[:, index])):\n",
    "                #feature 提取出来并升序排列\n",
    "                #对数据行遍历\n",
    "                left_indices = np.where(x[:, index] <= index_value)\n",
    "                right_indices = np.where(x[:, index] > index_value)\n",
    "                delta_obj = current_node.obj - self._obj(g[left_indices], h[left_indices]) - self._obj(\n",
    "                    g[right_indices], h[right_indices])\n",
    "                #计算增益\n",
    "                if delta_obj > best_criterion_value:\n",
    "                    best_criterion_value = delta_obj\n",
    "                    best_index = index\n",
    "                    best_index_value = index_value\n",
    "\n",
    "        if best_index is None:\n",
    "            # 如果增益小于min_gain则停止划分\n",
    "            return\n",
    "        # 切分\n",
    "        current_node.feature_index = best_index\n",
    "        current_node.feature_value = best_index_value\n",
    "        selected_x = x[:, best_index]\n",
    "\n",
    "        # 创建左孩子结点\n",
    "        left_selected_index = np.where(selected_x <= best_index_value)\n",
    "        # 如果切分后的点太少，以至于都不能做叶子节点，则停止分割\n",
    "        if len(left_selected_index[0]) >= self.min_samples_leaf:\n",
    "            left_child_node = self.Node()\n",
    "            current_node.left_child_node = left_child_node\n",
    "            self._build_tree(current_depth + 1, left_child_node, x[left_selected_index], g[left_selected_index],\n",
    "                             h[left_selected_index])\n",
    "        # 创建右孩子结点\n",
    "        right_selected_index = np.where(selected_x > best_index_value)\n",
    "        # 如果切分后的点太少，以至于都不能做叶子节点，则停止分割\n",
    "        if len(right_selected_index[0]) >= self.min_samples_leaf:\n",
    "            right_child_node = self.Node()\n",
    "            current_node.right_child_node = right_child_node\n",
    "            self._build_tree(current_depth + 1, right_child_node, x[right_selected_index], g[right_selected_index],\n",
    "                             h[right_selected_index])\n",
    "\n",
    "    def fit(self, x, g, h):\n",
    "        # 构建空的根节点\n",
    "        self.root_node = self.Node()\n",
    "        # 递归构建树\n",
    "        self._build_tree(1, self.root_node, x, g, h)\n",
    "    # 检索叶子节点的结果\n",
    "    def _search_node(self, current_node: Node, x):\n",
    "        if current_node.left_child_node is not None and x[current_node.feature_index] <= current_node.feature_value:\n",
    "            return self._search_node(current_node.left_child_node, x)\n",
    "        elif current_node.right_child_node is not None and x[current_node.feature_index] > current_node.feature_value:\n",
    "            return self._search_node(current_node.right_child_node, x)\n",
    "        else:\n",
    "            return current_node.w\n",
    "\n",
    "\n",
    "    def penalty(self):\n",
    "        pen=0\n",
    "        w=self.root_node.traversal()\n",
    "        w=np.array(w)\n",
    "        return  0.5*self.lamb*sum(w**2)+self.gamma*w.size\n",
    "        \n",
    "    def predict(self, x):\n",
    "        # 计算结果\n",
    "        # x = self.dbw.transform(x)\n",
    "        rows = x.shape[0]\n",
    "        results = []\n",
    "        for row in range(0, rows):\n",
    "            results.append(self._search_node(self.root_node, x[row]))\n",
    "        return np.asarray(results)"
   ],
   "metadata": {
    "collapsed": false,
    "pycharm": {
     "name": "#%%\n"
    }
   }
  },
  {
   "cell_type": "markdown",
   "source": [
    "## XGboost"
   ],
   "metadata": {
    "collapsed": false,
    "pycharm": {
     "name": "#%% md\n"
    }
   }
  },
  {
   "cell_type": "code",
   "execution_count": 131,
   "outputs": [],
   "source": [
    "import matplotlib.pyplot as plt\n",
    "class XGboost(object):\n",
    "    def __init__(self, base_estimator=None, n_estimators=10,Obj=0):\n",
    "        \"\"\"\n",
    "        :param base_estimator: 基学习器\n",
    "        :param n_estimators: 基学习器迭代数量\n",
    "        :param Obj:树的总得分\n",
    "        \"\"\"\n",
    "        self.base_estimator = base_estimator\n",
    "        self.n_estimators = n_estimators\n",
    "        if self.base_estimator is None:\n",
    "            #初始化基学习器\n",
    "            self.base_estimator = [RegressionTree(lamb=1e-7,gamma=1e-9,max_depth=4) for _ in range(self.n_estimators)]\n",
    "        self.Obj=Obj\n",
    "\n",
    "    def _get_gradient_hess(self, y, y_pred):\n",
    "        #返回一阶导、二阶导信息\n",
    "        return y_pred - y, np.ones_like(y)\n",
    "\n",
    "    def fit(self, x, y):\n",
    "        y_pred = np.zeros_like(y)\n",
    "        g, h = self._get_gradient_hess(y, y_pred)\n",
    "        penalty_current=0\n",
    "        Obj_current =0.0\n",
    "        times=np.arange(1,self.n_estimators+1)\n",
    "        Objs=np.array([])\n",
    "        for index in range(0, self.n_estimators):\n",
    "            self.base_estimator[index].fit(x, g, h)\n",
    "            penalty_current+=self.base_estimator[index].penalty()\n",
    "            y_pred += self.base_estimator[index].predict(x)\n",
    "            Obj_current = sum((y_pred - y)**2) #loss\n",
    "            Objs=np.append(Objs,Obj_current) #这是赋值的，不是引用\n",
    "            g, h = self._get_gradient_hess(y, y_pred)\n",
    "        self.Obj= Obj_current\n",
    "        #可视化\n",
    "        plt.title('The number of base learners—loss curve ')\n",
    "        plt.xlabel(\"The number of base learners\")\n",
    "        plt.ylabel(\"loss\")\n",
    "        plt.plot(times,Objs)\n",
    "        plt.show()\n",
    "\n",
    "    def predict(self, x):\n",
    "        result=np.zeros_like(x[:,0])\n",
    "        for index in range(self.n_estimators):\n",
    "            result=result+self.base_estimator[index].predict(x)\n",
    "        return result\n",
    "\n",
    "    def evaluate(self,y_real,y_predict):\n",
    "        rmse=sum((y_real-y_predict)*(y_real-y_predict))\n",
    "        rmse=pow(rmse/y_real.size,0.5)\n",
    "        print('RMSE=',rmse)\n",
    "        return rmse"
   ],
   "metadata": {
    "collapsed": false,
    "pycharm": {
     "name": "#%%\n"
    }
   }
  },
  {
   "cell_type": "markdown",
   "source": [
    "## Test(best model)"
   ],
   "metadata": {
    "collapsed": false,
    "pycharm": {
     "name": "#%% md\n"
    }
   }
  },
  {
   "cell_type": "code",
   "execution_count": 133,
   "outputs": [
    {
     "data": {
      "text/plain": "<Figure size 640x480 with 1 Axes>",
      "image/png": "[encoded data removed]"
     },
     "metadata": {},
     "output_type": "display_data"
    },
    {
     "name": "stdout",
     "output_type": "stream",
     "text": [
      "RMSE= 0.00018789335527137155\n"
     ]
    },
    {
     "data": {
      "text/plain": "0.00018789335527137155"
     },
     "execution_count": 133,
     "metadata": {},
     "output_type": "execute_result"
    }
   ],
   "source": [
    "model = XGboost(n_estimators=15)\n",
    "model.fit(x_training_data, y_trainning_data)\n",
    "y_predict=model.predict(x_test_data)\n",
    "model.evaluate(y_test_data,y_predict)"
   ],
   "metadata": {
    "collapsed": false,
    "pycharm": {
     "name": "#%%\n"
    }
   }
  },
  {
   "cell_type": "markdown",
   "source": [
    "## Comparison"
   ],
   "metadata": {
    "collapsed": false,
    "pycharm": {
     "name": "#%% md\n"
    }
   }
  },
  {
   "cell_type": "code",
   "execution_count": null,
   "outputs": [],
   "source": [
    "nums=[5,10,15,20,25]\n",
    "for n_estimators in nums :\n",
    "    base_estimator = [RegressionTree(lamb=1e-7,gamma=1e-9,max_depth=4) for _ in range(n_estimators)]\n",
    "    model = XGboost(n_estimators=n_estimators,base_estimator=base_estimator)\n",
    "    model.fit(x_training_data, y_trainning_data)\n",
    "    y_predict=model.predict(x_test_data)\n",
    "    model.evaluate(y_test_data,y_predict)\n"
   ],
   "metadata": {
    "collapsed": false,
    "pycharm": {
     "name": "#%%\n"
    }
   }
  },
  {
   "cell_type": "code",
   "execution_count": null,
   "outputs": [],
   "source": [
    "gammas=[1e-3,1e-5,1e-7,1e-9,1e-11]\n",
    "for gamma in gammas :\n",
    "    base_estimator = [RegressionTree(lamb=1e-7,gamma=gamma,max_depth=4) for _ in range(10)]\n",
    "    model = XGboost(n_estimators=10,base_estimator=base_estimator)\n",
    "    model.fit(x_training_data, y_trainning_data)\n",
    "    y_predict=model.predict(x_test_data)\n",
    "    model.evaluate(y_test_data,y_predict)"
   ],
   "metadata": {
    "collapsed": false,
    "pycharm": {
     "name": "#%%\n"
    }
   }
  },
  {
   "cell_type": "code",
   "execution_count": null,
   "outputs": [],
   "source": [
    "lams=[1e-3,1e-5,1e-7,1e-9,1e-11]\n",
    "for lamb in lams :\n",
    "    base_estimator = [RegressionTree(lamb=lamb,gamma=1e-9,max_depth=4) for _ in range(10)]\n",
    "    model = XGboost(n_estimators=10,base_estimator=base_estimator)\n",
    "    model.fit(x_training_data, y_trainning_data)\n",
    "    y_predict=model.predict(x_test_data)\n",
    "    model.evaluate(y_test_data,y_predict)"
   ],
   "metadata": {
    "collapsed": false,
    "pycharm": {
     "name": "#%%\n"
    }
   }
  },
  {
   "cell_type": "code",
   "execution_count": null,
   "outputs": [],
   "source": [
    "depth=[3,5,8,12,15]\n",
    "for max_depth in depth :\n",
    "    base_estimator = [RegressionTree(lamb=1e-7,gamma=1e-9,max_depth=max_depth) for _ in range(4)]\n",
    "    model = XGboost(n_estimators=4,base_estimator=base_estimator)\n",
    "    model.fit(x_training_data, y_trainning_data)\n",
    "    y_predict=model.predict(x_test_data)\n",
    "    model.evaluate(y_test_data,y_predict)"
   ],
   "metadata": {
    "collapsed": false,
    "pycharm": {
     "name": "#%%\n"
    }
   }
  }
 ],
 "metadata": {
  "kernelspec": {
   "display_name": "Python 3",
   "language": "python",
   "name": "python3"
  },
  "language_info": {
   "codemirror_mode": {
    "name": "ipython",
    "version": 2
   },
   "file_extension": ".py",
   "mimetype": "text/x-python",
   "name": "python",
   "nbconvert_exporter": "python",
   "pygments_lexer": "ipython2",
   "version": "2.7.6"
  }
 },
 "nbformat": 4,
 "nbformat_minor": 0
}